{
 "cells": [
  {
   "cell_type": "code",
   "execution_count": null,
   "id": "46f55339",
   "metadata": {},
   "outputs": [],
   "source": [
    "import win32com.client\n",
    "import os\n",
    "import openpyxl\n",
    "import pandas as pd \n",
    "\n",
    "# Using Panda\n",
    "\n",
    "#file = \"ExcelSheet_location\"\n",
    "#data = pd.ExcelFile(file)\n",
    "#print(data.sheet_names) we can use panda or pyxl to get data from excel\n",
    "\n",
    "# Using openpyxl\n",
    "\n",
    "ps = openpyxl.load_workbook(\"Excel_sheet location\")\n",
    "sheet = ps[‘Sheet1’]\n",
    "sheet.max_row \n",
    "for row in range(2, sheet.max_row + 1):\n",
    "    name = sheet[\"SheetColumnName\" + str(row)].value #To get data in that column\n",
    "    \n",
    "#a = os.startfile(\"D:/Ps/x64/Photoshop.exe\") Using OS module to open photoshop\n",
    "\n",
    "#Using win32 to open Photoshop\n",
    "ps = win32com.client.Dispatch(\"Photoshop.exe\")\n",
    "ps.Open(r\"PSD location\")\n",
    "\n",
    "\n",
    "temp = ps.Application.ActiveDocument  #Activing Application\n",
    "layerText = doc.ArtLayers[\"TextLayer\"]  #Creating a new layer\n",
    "\n",
    "for i in sheet.max_row: # using for loop we can paste the different text we got from excel in the same image\n",
    "    \n",
    "    text = layerText.TextItem\n",
    "    text.contents = name[i]\n",
    "    text.size = #textsize\n",
    "    temp.ResizeImage(Width=1080,Height=1080)\n",
    "\n",
    "\n",
    "    saves = win32com.client.Dispatch(\"Photoshop.ExportOptionsSaveForWeb\") #Exporting\n",
    "    saves.Format = 13     #PNG format\n",
    "    saves.PNG8 = False    #Disabling 8Bit png \n",
    "\n",
    "    savesLocation = \" \" #location where you want to save\n",
    "    temp.Export(ExportIn = savesLocation , ExportAs = 2, Options = saves)"
   ]
  }
 ],
 "metadata": {
  "kernelspec": {
   "display_name": "Python 3 (ipykernel)",
   "language": "python",
   "name": "python3"
  },
  "language_info": {
   "codemirror_mode": {
    "name": "ipython",
    "version": 3
   },
   "file_extension": ".py",
   "mimetype": "text/x-python",
   "name": "python",
   "nbconvert_exporter": "python",
   "pygments_lexer": "ipython3",
   "version": "3.9.12"
  }
 },
 "nbformat": 4,
 "nbformat_minor": 5
}
